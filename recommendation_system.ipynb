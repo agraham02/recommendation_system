{
 "cells": [
  {
   "cell_type": "markdown",
   "metadata": {},
   "source": [
    "# Python Recommendation System"
   ]
  },
  {
   "cell_type": "markdown",
   "metadata": {},
   "source": [
    "## Possible categories I'm interested in to choose as dataset:\n",
    "* __Movies & Television__: Suggesting films and TV shows based on user preferences, viewing history, and ratings.\n",
    "* __Music__: Recommending songs, artists, or albums based on listening history, genres, or moods.\n",
    "__E-commerce & Retail__: Recommending products to customers based on past purchases, browsing history, and user ratings.\n",
    "__Restaurants & Food__: Suggesting dining places, recipes, or cuisines based on taste preferences, dietary restrictions, or past choices.\n",
    "__Games & Apps__: Recommending video games or mobile applications based on usage patterns and preferences.\n",
    "__Social Networking & Dating__: Suggesting friends, groups, or romantic partners based on interests, activities, or social circles."
   ]
  },
  {
   "cell_type": "code",
   "execution_count": null,
   "metadata": {},
   "outputs": [],
   "source": []
  }
 ],
 "metadata": {
  "language_info": {
   "name": "python"
  }
 },
 "nbformat": 4,
 "nbformat_minor": 2
}
